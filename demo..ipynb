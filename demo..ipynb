Import matplotlib.pyplot as plt
plt.figure()
x = [2,4,6,8]
y = [1,3,5,7]
plt.plot(x,y,'r')
